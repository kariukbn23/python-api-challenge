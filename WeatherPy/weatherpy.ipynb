{
 "cells": [
  {
   "cell_type": "code",
   "execution_count": 51,
   "metadata": {},
   "outputs": [],
   "source": [
    "#Import necessary dependencies \n",
    "import numpy as np\n",
    "import pandas as pd\n",
    "import matplotlib.pyplot as plt\n",
    "import time\n",
    "import requests \n",
    "import csv \n",
    "import datetime\n",
    "\n"
   ]
  },
  {
   "cell_type": "code",
   "execution_count": 52,
   "metadata": {},
   "outputs": [],
   "source": [
    "# Per instructions we needed to create a file path for our output data to be stored. What should appear in this file by the end of this code will be a data frame of the information collected\n",
    "City_data_file = \"Resources/City_Data.csv\""
   ]
  },
  {
   "cell_type": "code",
   "execution_count": 53,
   "metadata": {},
   "outputs": [],
   "source": [
    "# need to import citipy to help tag geo coordinates to cities selected\n",
    "from citipy import citipy "
   ]
  },
  {
   "cell_type": "code",
   "execution_count": 54,
   "metadata": {},
   "outputs": [],
   "source": [
    "# import my individualized API key and define desired units for temperature because I will need to successfuly call url \n",
    "from BK_api_key import BK_api_key\n",
    "\n",
    "temperature_units = \"Imperial\"\n"
   ]
  },
  {
   "cell_type": "code",
   "execution_count": 55,
   "metadata": {},
   "outputs": [],
   "source": [
    "# Prior to any list creation or defining range for specific values we will look for, I need make sure my query_url works. Base url was provided from OpenWeatherMap recommendations on how to perform successful API call \n",
    "url_query = f\"http://api.openweathermap.org/data/2.5/weather?appid={BK_api_key}&units={temperature_units}&q=\""
   ]
  },
  {
   "cell_type": "code",
   "execution_count": 56,
   "metadata": {},
   "outputs": [],
   "source": [
    "# Since we will be capturing the lat and long of the random cities I will need define ranges for those values and create an open list to add those values later on. Range values are based on researched max and min values for lat and long  \n",
    "\n",
    "latitude_range = (-90, 90)\n",
    "longitude_range = (-180, 180)\n",
    "\n",
    "\n",
    "latit_and_longtit_list = []\n",
    "cities = []\n"
   ]
  },
  {
   "cell_type": "code",
   "execution_count": 57,
   "metadata": {},
   "outputs": [],
   "source": [
    "# Prior to generating for loops to capture my city data, I want to set count value variables that will help organize through the different lists I will be appending information to. \n",
    "count_one = 0\n",
    "set_one = 1\n"
   ]
  },
  {
   "cell_type": "code",
   "execution_count": 58,
   "metadata": {},
   "outputs": [
    {
     "data": {
      "text/plain": [
       "612"
      ]
     },
     "execution_count": 58,
     "metadata": {},
     "output_type": "execute_result"
    }
   ],
   "source": [
    "#From starter code\n",
    "# Need to use np module to generate selection of the random cities and for those to be stored in the open lists I created above. Obviously what's different is how I named my variables.\n",
    "latitude_values = np.random.uniform(low=-90.000, high=90.000, size=1500)\n",
    "longitude_values = np.random.uniform(low=-180.000, high=180.000, size=1500)\n",
    "\n",
    "latit_and_longtit_list = zip(latitude_values, longitude_values)\n",
    "\n",
    "# For loop that will help identify nearest city (using citipy) for each latitude and longitude combination found\n",
    "for latit_and_longtit_list in latit_and_longtit_list:\n",
    "    city = citipy.nearest_city(latit_and_longtit_list[0], latit_and_longtit_list[1]).city_name\n",
    "    \n",
    "    # Conditional statement to ensure that only unquie city values are added to our open cities list\n",
    "    if city not in cities:\n",
    "        cities.append(city)\n",
    "\n",
    "# Print the city count to confirm sufficient count\n",
    "len(cities)"
   ]
  },
  {
   "cell_type": "code",
   "execution_count": 59,
   "metadata": {},
   "outputs": [
    {
     "name": "stdout",
     "output_type": "stream",
     "text": [
      "beringovskiy\n"
     ]
    }
   ],
   "source": [
    "#Print statement to see what the output is for the first row. This will help when organizing my df later\n",
    "print(cities[0])"
   ]
  },
  {
   "cell_type": "code",
   "execution_count": 60,
   "metadata": {},
   "outputs": [],
   "source": [
    "# Prior to running code through my randomly selected cities, I need to create additional open lists that will hold values that will serve as the column values in my data frame that I will create. Since open list for the lats and longs have been created, I wont add them here. \n",
    "country_data = []\n",
    "cities_df_list = []\n",
    "humidity_data = []\n",
    "dates_data = []\n",
    "temperature_max_values = []\n",
    "wind_speed_data = []"
   ]
  },
  {
   "cell_type": "code",
   "execution_count": null,
   "metadata": {},
   "outputs": [],
   "source": []
  }
 ],
 "metadata": {
  "file_extension": ".py",
  "kernelspec": {
   "display_name": "Python 3",
   "language": "python",
   "name": "python3"
  },
  "language_info": {
   "codemirror_mode": {
    "name": "ipython",
    "version": 3
   },
   "file_extension": ".py",
   "mimetype": "text/x-python",
   "name": "python",
   "nbconvert_exporter": "python",
   "pygments_lexer": "ipython3",
   "version": "3.7.4"
  },
  "mimetype": "text/x-python",
  "name": "python",
  "npconvert_exporter": "python",
  "pygments_lexer": "ipython3",
  "version": 3
 },
 "nbformat": 4,
 "nbformat_minor": 2
}
